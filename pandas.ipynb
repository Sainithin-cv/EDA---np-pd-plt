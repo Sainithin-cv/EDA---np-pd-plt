{
  "metadata": {
    "language_info": {
      "codemirror_mode": {
        "name": "python",
        "version": 3
      },
      "file_extension": ".py",
      "mimetype": "text/x-python",
      "name": "python",
      "nbconvert_exporter": "python",
      "pygments_lexer": "ipython3",
      "version": "3.8"
    },
    "kernelspec": {
      "name": "python",
      "display_name": "Python (Pyodide)",
      "language": "python"
    }
  },
  "nbformat_minor": 4,
  "nbformat": 4,
  "cells": [
    {
      "cell_type": "code",
      "source": "import numpy as np\nimport pandas as pd\nimport matplotlib.pyplot as plt",
      "metadata": {
        "trusted": true
      },
      "execution_count": 60,
      "outputs": []
    },
    {
      "cell_type": "code",
      "source": "df= pd.read_csv(\"Time Americans Spend Sleeping.csv\")\ndf.head(3)",
      "metadata": {
        "trusted": true
      },
      "execution_count": 61,
      "outputs": [
        {
          "execution_count": 61,
          "output_type": "execute_result",
          "data": {
            "text/plain": "   index  Year  Period  Avg hrs per day sleeping  Standard Error Type of Days  \\\n0      0  2003  Annual                      8.57           0.018     All days   \n1      1  2004  Annual                      8.55           0.026     All days   \n2      2  2005  Annual                      8.62           0.023     All days   \n\n           Age Group  Activity   Sex  \n0  15 years and over  Sleeping  Both  \n1  15 years and over  Sleeping  Both  \n2  15 years and over  Sleeping  Both  ",
            "text/html": "<div>\n<style scoped>\n    .dataframe tbody tr th:only-of-type {\n        vertical-align: middle;\n    }\n\n    .dataframe tbody tr th {\n        vertical-align: top;\n    }\n\n    .dataframe thead th {\n        text-align: right;\n    }\n</style>\n<table border=\"1\" class=\"dataframe\">\n  <thead>\n    <tr style=\"text-align: right;\">\n      <th></th>\n      <th>index</th>\n      <th>Year</th>\n      <th>Period</th>\n      <th>Avg hrs per day sleeping</th>\n      <th>Standard Error</th>\n      <th>Type of Days</th>\n      <th>Age Group</th>\n      <th>Activity</th>\n      <th>Sex</th>\n    </tr>\n  </thead>\n  <tbody>\n    <tr>\n      <th>0</th>\n      <td>0</td>\n      <td>2003</td>\n      <td>Annual</td>\n      <td>8.57</td>\n      <td>0.018</td>\n      <td>All days</td>\n      <td>15 years and over</td>\n      <td>Sleeping</td>\n      <td>Both</td>\n    </tr>\n    <tr>\n      <th>1</th>\n      <td>1</td>\n      <td>2004</td>\n      <td>Annual</td>\n      <td>8.55</td>\n      <td>0.026</td>\n      <td>All days</td>\n      <td>15 years and over</td>\n      <td>Sleeping</td>\n      <td>Both</td>\n    </tr>\n    <tr>\n      <th>2</th>\n      <td>2</td>\n      <td>2005</td>\n      <td>Annual</td>\n      <td>8.62</td>\n      <td>0.023</td>\n      <td>All days</td>\n      <td>15 years and over</td>\n      <td>Sleeping</td>\n      <td>Both</td>\n    </tr>\n  </tbody>\n</table>\n</div>"
          },
          "metadata": {}
        }
      ]
    },
    {
      "cell_type": "code",
      "source": "df.shape",
      "metadata": {
        "trusted": true
      },
      "execution_count": 62,
      "outputs": [
        {
          "execution_count": 62,
          "output_type": "execute_result",
          "data": {
            "text/plain": "(945, 9)"
          },
          "metadata": {}
        }
      ]
    },
    {
      "cell_type": "code",
      "source": "df.tail(2)",
      "metadata": {
        "trusted": true
      },
      "execution_count": 63,
      "outputs": [
        {
          "execution_count": 63,
          "output_type": "execute_result",
          "data": {
            "text/plain": "     index  Year  Period  Avg hrs per day sleeping  Standard Error  \\\n943    943  2016  Annual                      8.92           0.071   \n944    944  2017  Annual                      8.81           0.091   \n\n            Type of Days          Age Group  Activity    Sex  \n943  Nonholiday weekdays  65 years and over  Sleeping  Women  \n944  Nonholiday weekdays  65 years and over  Sleeping  Women  ",
            "text/html": "<div>\n<style scoped>\n    .dataframe tbody tr th:only-of-type {\n        vertical-align: middle;\n    }\n\n    .dataframe tbody tr th {\n        vertical-align: top;\n    }\n\n    .dataframe thead th {\n        text-align: right;\n    }\n</style>\n<table border=\"1\" class=\"dataframe\">\n  <thead>\n    <tr style=\"text-align: right;\">\n      <th></th>\n      <th>index</th>\n      <th>Year</th>\n      <th>Period</th>\n      <th>Avg hrs per day sleeping</th>\n      <th>Standard Error</th>\n      <th>Type of Days</th>\n      <th>Age Group</th>\n      <th>Activity</th>\n      <th>Sex</th>\n    </tr>\n  </thead>\n  <tbody>\n    <tr>\n      <th>943</th>\n      <td>943</td>\n      <td>2016</td>\n      <td>Annual</td>\n      <td>8.92</td>\n      <td>0.071</td>\n      <td>Nonholiday weekdays</td>\n      <td>65 years and over</td>\n      <td>Sleeping</td>\n      <td>Women</td>\n    </tr>\n    <tr>\n      <th>944</th>\n      <td>944</td>\n      <td>2017</td>\n      <td>Annual</td>\n      <td>8.81</td>\n      <td>0.091</td>\n      <td>Nonholiday weekdays</td>\n      <td>65 years and over</td>\n      <td>Sleeping</td>\n      <td>Women</td>\n    </tr>\n  </tbody>\n</table>\n</div>"
          },
          "metadata": {}
        }
      ]
    },
    {
      "cell_type": "code",
      "source": "df[21:26]",
      "metadata": {
        "trusted": true
      },
      "execution_count": 64,
      "outputs": [
        {
          "execution_count": 64,
          "output_type": "execute_result",
          "data": {
            "text/plain": "    index  Year  Period  Avg hrs per day sleeping  Standard Error  \\\n21     21  2009  Annual                      8.39           0.031   \n22     22  2010  Annual                      8.38           0.031   \n23     23  2011  Annual                      8.45           0.034   \n24     24  2012  Annual                      8.45           0.034   \n25     25  2013  Annual                      8.48           0.036   \n\n           Type of Days          Age Group  Activity   Sex  \n21  Nonholiday weekdays  15 years and over  Sleeping  Both  \n22  Nonholiday weekdays  15 years and over  Sleeping  Both  \n23  Nonholiday weekdays  15 years and over  Sleeping  Both  \n24  Nonholiday weekdays  15 years and over  Sleeping  Both  \n25  Nonholiday weekdays  15 years and over  Sleeping  Both  ",
            "text/html": "<div>\n<style scoped>\n    .dataframe tbody tr th:only-of-type {\n        vertical-align: middle;\n    }\n\n    .dataframe tbody tr th {\n        vertical-align: top;\n    }\n\n    .dataframe thead th {\n        text-align: right;\n    }\n</style>\n<table border=\"1\" class=\"dataframe\">\n  <thead>\n    <tr style=\"text-align: right;\">\n      <th></th>\n      <th>index</th>\n      <th>Year</th>\n      <th>Period</th>\n      <th>Avg hrs per day sleeping</th>\n      <th>Standard Error</th>\n      <th>Type of Days</th>\n      <th>Age Group</th>\n      <th>Activity</th>\n      <th>Sex</th>\n    </tr>\n  </thead>\n  <tbody>\n    <tr>\n      <th>21</th>\n      <td>21</td>\n      <td>2009</td>\n      <td>Annual</td>\n      <td>8.39</td>\n      <td>0.031</td>\n      <td>Nonholiday weekdays</td>\n      <td>15 years and over</td>\n      <td>Sleeping</td>\n      <td>Both</td>\n    </tr>\n    <tr>\n      <th>22</th>\n      <td>22</td>\n      <td>2010</td>\n      <td>Annual</td>\n      <td>8.38</td>\n      <td>0.031</td>\n      <td>Nonholiday weekdays</td>\n      <td>15 years and over</td>\n      <td>Sleeping</td>\n      <td>Both</td>\n    </tr>\n    <tr>\n      <th>23</th>\n      <td>23</td>\n      <td>2011</td>\n      <td>Annual</td>\n      <td>8.45</td>\n      <td>0.034</td>\n      <td>Nonholiday weekdays</td>\n      <td>15 years and over</td>\n      <td>Sleeping</td>\n      <td>Both</td>\n    </tr>\n    <tr>\n      <th>24</th>\n      <td>24</td>\n      <td>2012</td>\n      <td>Annual</td>\n      <td>8.45</td>\n      <td>0.034</td>\n      <td>Nonholiday weekdays</td>\n      <td>15 years and over</td>\n      <td>Sleeping</td>\n      <td>Both</td>\n    </tr>\n    <tr>\n      <th>25</th>\n      <td>25</td>\n      <td>2013</td>\n      <td>Annual</td>\n      <td>8.48</td>\n      <td>0.036</td>\n      <td>Nonholiday weekdays</td>\n      <td>15 years and over</td>\n      <td>Sleeping</td>\n      <td>Both</td>\n    </tr>\n  </tbody>\n</table>\n</div>"
          },
          "metadata": {}
        }
      ]
    },
    {
      "cell_type": "code",
      "source": "df['Type of Days']",
      "metadata": {
        "trusted": true
      },
      "execution_count": 65,
      "outputs": [
        {
          "execution_count": 65,
          "output_type": "execute_result",
          "data": {
            "text/plain": "0                 All days\n1                 All days\n2                 All days\n3                 All days\n4                 All days\n              ...         \n940    Nonholiday weekdays\n941    Nonholiday weekdays\n942    Nonholiday weekdays\n943    Nonholiday weekdays\n944    Nonholiday weekdays\nName: Type of Days, Length: 945, dtype: object"
          },
          "metadata": {}
        }
      ]
    },
    {
      "cell_type": "code",
      "source": "df['Avg hrs per day sleeping'].max()",
      "metadata": {
        "trusted": true
      },
      "execution_count": 66,
      "outputs": [
        {
          "execution_count": 66,
          "output_type": "execute_result",
          "data": {
            "text/plain": "10.65"
          },
          "metadata": {}
        }
      ]
    },
    {
      "cell_type": "code",
      "source": "df[df['Avg hrs per day sleeping'] > 10.6]",
      "metadata": {
        "trusted": true
      },
      "execution_count": 67,
      "outputs": [
        {
          "execution_count": 67,
          "output_type": "execute_result",
          "data": {
            "text/plain": "     index  Year  Period  Avg hrs per day sleeping  Standard Error  \\\n403    403  2016  Annual                     10.65           0.189   \n\n                  Type of Days       Age Group  Activity  Sex  \n403  Weekend days and holidays  15 to 24 years  Sleeping  Men  ",
            "text/html": "<div>\n<style scoped>\n    .dataframe tbody tr th:only-of-type {\n        vertical-align: middle;\n    }\n\n    .dataframe tbody tr th {\n        vertical-align: top;\n    }\n\n    .dataframe thead th {\n        text-align: right;\n    }\n</style>\n<table border=\"1\" class=\"dataframe\">\n  <thead>\n    <tr style=\"text-align: right;\">\n      <th></th>\n      <th>index</th>\n      <th>Year</th>\n      <th>Period</th>\n      <th>Avg hrs per day sleeping</th>\n      <th>Standard Error</th>\n      <th>Type of Days</th>\n      <th>Age Group</th>\n      <th>Activity</th>\n      <th>Sex</th>\n    </tr>\n  </thead>\n  <tbody>\n    <tr>\n      <th>403</th>\n      <td>403</td>\n      <td>2016</td>\n      <td>Annual</td>\n      <td>10.65</td>\n      <td>0.189</td>\n      <td>Weekend days and holidays</td>\n      <td>15 to 24 years</td>\n      <td>Sleeping</td>\n      <td>Men</td>\n    </tr>\n  </tbody>\n</table>\n</div>"
          },
          "metadata": {}
        }
      ]
    },
    {
      "cell_type": "code",
      "source": "df.describe()",
      "metadata": {
        "trusted": true
      },
      "execution_count": 68,
      "outputs": [
        {
          "execution_count": 68,
          "output_type": "execute_result",
          "data": {
            "text/plain": "            index         Year  Avg hrs per day sleeping  Standard Error\ncount  945.000000   945.000000                945.000000      945.000000\nmean   472.000000  2010.000000                  8.806868        0.086958\nstd    272.942302     4.322782                  0.545001        0.034631\nmin      0.000000  2003.000000                  7.720000        0.018000\n25%    236.000000  2006.000000                  8.360000        0.063000\n50%    472.000000  2010.000000                  8.810000        0.084000\n75%    708.000000  2014.000000                  9.190000        0.106000\nmax    944.000000  2017.000000                 10.650000        0.228000",
            "text/html": "<div>\n<style scoped>\n    .dataframe tbody tr th:only-of-type {\n        vertical-align: middle;\n    }\n\n    .dataframe tbody tr th {\n        vertical-align: top;\n    }\n\n    .dataframe thead th {\n        text-align: right;\n    }\n</style>\n<table border=\"1\" class=\"dataframe\">\n  <thead>\n    <tr style=\"text-align: right;\">\n      <th></th>\n      <th>index</th>\n      <th>Year</th>\n      <th>Avg hrs per day sleeping</th>\n      <th>Standard Error</th>\n    </tr>\n  </thead>\n  <tbody>\n    <tr>\n      <th>count</th>\n      <td>945.000000</td>\n      <td>945.000000</td>\n      <td>945.000000</td>\n      <td>945.000000</td>\n    </tr>\n    <tr>\n      <th>mean</th>\n      <td>472.000000</td>\n      <td>2010.000000</td>\n      <td>8.806868</td>\n      <td>0.086958</td>\n    </tr>\n    <tr>\n      <th>std</th>\n      <td>272.942302</td>\n      <td>4.322782</td>\n      <td>0.545001</td>\n      <td>0.034631</td>\n    </tr>\n    <tr>\n      <th>min</th>\n      <td>0.000000</td>\n      <td>2003.000000</td>\n      <td>7.720000</td>\n      <td>0.018000</td>\n    </tr>\n    <tr>\n      <th>25%</th>\n      <td>236.000000</td>\n      <td>2006.000000</td>\n      <td>8.360000</td>\n      <td>0.063000</td>\n    </tr>\n    <tr>\n      <th>50%</th>\n      <td>472.000000</td>\n      <td>2010.000000</td>\n      <td>8.810000</td>\n      <td>0.084000</td>\n    </tr>\n    <tr>\n      <th>75%</th>\n      <td>708.000000</td>\n      <td>2014.000000</td>\n      <td>9.190000</td>\n      <td>0.106000</td>\n    </tr>\n    <tr>\n      <th>max</th>\n      <td>944.000000</td>\n      <td>2017.000000</td>\n      <td>10.650000</td>\n      <td>0.228000</td>\n    </tr>\n  </tbody>\n</table>\n</div>"
          },
          "metadata": {}
        }
      ]
    },
    {
      "cell_type": "code",
      "source": "df.info()",
      "metadata": {
        "trusted": true
      },
      "execution_count": 69,
      "outputs": [
        {
          "name": "stdout",
          "text": "<class 'pandas.core.frame.DataFrame'>\nRangeIndex: 945 entries, 0 to 944\nData columns (total 9 columns):\n #   Column                    Non-Null Count  Dtype  \n---  ------                    --------------  -----  \n 0   index                     945 non-null    int64  \n 1   Year                      945 non-null    int64  \n 2   Period                    945 non-null    object \n 3   Avg hrs per day sleeping  945 non-null    float64\n 4   Standard Error            945 non-null    float64\n 5   Type of Days              945 non-null    object \n 6   Age Group                 945 non-null    object \n 7   Activity                  945 non-null    object \n 8   Sex                       945 non-null    object \ndtypes: float64(2), int64(2), object(5)\nmemory usage: 48.1+ KB\n",
          "output_type": "stream"
        }
      ]
    },
    {
      "cell_type": "code",
      "source": "# QUESTIONS TO BE ANSWERED\n\n# which year is the sleeping average high  --------------------------------------- 2015 has the highest sleeping average\n# Is sleeping average high for men or women --------------------------------------  Women sleep morethan men\n# Which age group has highest and lowest sleeping average ------------------------ 15-24 has highest, 45-54 has lowest sleeping averages\n# Which type of days has highest sleeping average in overall years --------------- weekwnds and holidays has highest average\n# overall sleeping average from the data set ------------------------------------- 8.806867724867725",
      "metadata": {
        "trusted": true
      },
      "execution_count": 70,
      "outputs": []
    },
    {
      "cell_type": "code",
      "source": "numerics = ['int16', 'int32', 'int64', 'float16', 'float32', 'float64']\nnumeric_df = df.select_dtypes(include = numerics)\nnumeric_df.columns       \n#to find number of numeric columns in the data set",
      "metadata": {
        "trusted": true
      },
      "execution_count": 71,
      "outputs": [
        {
          "execution_count": 71,
          "output_type": "execute_result",
          "data": {
            "text/plain": "Index(['index', 'Year', 'Avg hrs per day sleeping', 'Standard Error'], dtype='object')"
          },
          "metadata": {}
        }
      ]
    },
    {
      "cell_type": "code",
      "source": "df.isna().sum().sort_values(ascending = False)\n#number of null values per column\n# df.isna() gives each value a true or false if it's null or not - try it ",
      "metadata": {
        "trusted": true
      },
      "execution_count": 72,
      "outputs": [
        {
          "execution_count": 72,
          "output_type": "execute_result",
          "data": {
            "text/plain": "index                       0\nYear                        0\nPeriod                      0\nAvg hrs per day sleeping    0\nStandard Error              0\nType of Days                0\nAge Group                   0\nActivity                    0\nSex                         0\ndtype: int64"
          },
          "metadata": {}
        }
      ]
    },
    {
      "cell_type": "code",
      "source": "#as there are no null values, we are good to go\n\ndf['Type of Days'].unique()",
      "metadata": {
        "trusted": true
      },
      "execution_count": 73,
      "outputs": [
        {
          "execution_count": 73,
          "output_type": "execute_result",
          "data": {
            "text/plain": "array(['All days', 'Nonholiday weekdays', 'Weekend days and holidays'],\n      dtype=object)"
          },
          "metadata": {}
        }
      ]
    },
    {
      "cell_type": "code",
      "source": "df['Age Group'].unique()",
      "metadata": {
        "trusted": true
      },
      "execution_count": 74,
      "outputs": [
        {
          "execution_count": 74,
          "output_type": "execute_result",
          "data": {
            "text/plain": "array(['15 years and over', '15 to 24 years', '25 to 34 years',\n       '35 to 44 years', '45 to 54 years', '55 to 64 years',\n       '65 years and over'], dtype=object)"
          },
          "metadata": {}
        }
      ]
    },
    {
      "cell_type": "code",
      "source": "df['Type of Days'].value_counts()",
      "metadata": {
        "trusted": true
      },
      "execution_count": 75,
      "outputs": [
        {
          "execution_count": 75,
          "output_type": "execute_result",
          "data": {
            "text/plain": "All days                     315\nNonholiday weekdays          315\nWeekend days and holidays    315\nName: Type of Days, dtype: int64"
          },
          "metadata": {}
        }
      ]
    },
    {
      "cell_type": "code",
      "source": "df_grouped = df.groupby(by=\"Year\")[\"Avg hrs per day sleeping\"].sum()\ndf_grouped.sort_values(ascending = False)",
      "metadata": {
        "trusted": true
      },
      "execution_count": 76,
      "outputs": [
        {
          "execution_count": 76,
          "output_type": "execute_result",
          "data": {
            "text/plain": "Year\n2015    563.03\n2017    561.84\n2016    561.61\n2014    560.84\n2012    557.54\n2013    557.26\n2011    556.47\n2009    554.16\n2010    554.11\n2006    551.75\n2005    550.97\n2008    550.10\n2003    548.22\n2007    547.89\n2004    546.70\nName: Avg hrs per day sleeping, dtype: float64"
          },
          "metadata": {}
        }
      ]
    },
    {
      "cell_type": "code",
      "source": "type(df_grouped)",
      "metadata": {
        "trusted": true
      },
      "execution_count": 77,
      "outputs": [
        {
          "execution_count": 77,
          "output_type": "execute_result",
          "data": {
            "text/plain": "pandas.core.series.Series"
          },
          "metadata": {}
        }
      ]
    },
    {
      "cell_type": "code",
      "source": "df_grouped.plot(kind = 'barh')\n\nplt.xlim(500,600)\nplt.show()",
      "metadata": {
        "trusted": true
      },
      "execution_count": 82,
      "outputs": [
        {
          "output_type": "display_data",
          "data": {
            "text/plain": "<pyolite.display.Image at 0x7f8cff8>",
            "image/png": "[encoded data removed]"
          },
          "metadata": {}
        }
      ]
    },
    {
      "cell_type": "code",
      "source": "df_agegrouped = df.groupby(by=\"Age Group\")[\"Avg hrs per day sleeping\"].sum()\ndf_agegrouped.sort_values(ascending = False)",
      "metadata": {
        "trusted": true
      },
      "execution_count": 83,
      "outputs": [
        {
          "execution_count": 83,
          "output_type": "execute_result",
          "data": {
            "text/plain": "Age Group\n15 to 24 years       1282.40\n65 years and over    1210.39\n15 years and over    1189.39\n25 to 34 years       1187.07\n35 to 44 years       1159.14\n55 to 64 years       1148.75\n45 to 54 years       1145.35\nName: Avg hrs per day sleeping, dtype: float64"
          },
          "metadata": {}
        }
      ]
    },
    {
      "cell_type": "code",
      "source": "df_agegrouped.plot(kind = 'barh')\nplt.show()",
      "metadata": {
        "trusted": true
      },
      "execution_count": 84,
      "outputs": [
        {
          "output_type": "display_data",
          "data": {
            "text/plain": "<pyolite.display.Image at 0x7bdaba0>",
            "image/png": "[encoded data removed]"
          },
          "metadata": {}
        }
      ]
    },
    {
      "cell_type": "code",
      "source": "df_daygrouped = df.groupby(by=\"Type of Days\")[\"Avg hrs per day sleeping\"].sum()\ndf_daygrouped.sort_values(ascending = False)",
      "metadata": {
        "trusted": true
      },
      "execution_count": 85,
      "outputs": [
        {
          "execution_count": 85,
          "output_type": "execute_result",
          "data": {
            "text/plain": "Type of Days\nWeekend days and holidays    2940.47\nAll days                     2734.65\nNonholiday weekdays          2647.37\nName: Avg hrs per day sleeping, dtype: float64"
          },
          "metadata": {}
        }
      ]
    },
    {
      "cell_type": "code",
      "source": "df_daygrouped.plot(kind = 'bar')\nplt.show()",
      "metadata": {
        "trusted": true
      },
      "execution_count": 86,
      "outputs": [
        {
          "output_type": "display_data",
          "data": {
            "text/plain": "<pyolite.display.Image at 0x99ae7b0>",
            "image/png": "[encoded data removed]"
          },
          "metadata": {}
        }
      ]
    },
    {
      "cell_type": "code",
      "source": "df_sexgrouped = df.groupby(by=\"Sex\")[\"Avg hrs per day sleeping\"].sum()\ndf_sexgrouped.sort_values(ascending = False)",
      "metadata": {
        "trusted": true
      },
      "execution_count": 88,
      "outputs": [
        {
          "execution_count": 88,
          "output_type": "execute_result",
          "data": {
            "text/plain": "Sex\nWomen    2797.57\nBoth     2774.47\nMen      2750.45\nName: Avg hrs per day sleeping, dtype: float64"
          },
          "metadata": {}
        }
      ]
    },
    {
      "cell_type": "code",
      "source": "df_avg = df[\"Avg hrs per day sleeping\"].sum()/ len(df.index)\ndf_avg",
      "metadata": {
        "trusted": true
      },
      "execution_count": 94,
      "outputs": [
        {
          "execution_count": 94,
          "output_type": "execute_result",
          "data": {
            "text/plain": "8.806867724867725"
          },
          "metadata": {}
        }
      ]
    },
    {
      "cell_type": "code",
      "source": "len(df.index)",
      "metadata": {
        "trusted": true
      },
      "execution_count": 93,
      "outputs": [
        {
          "execution_count": 93,
          "output_type": "execute_result",
          "data": {
            "text/plain": "945"
          },
          "metadata": {}
        }
      ]
    }
  ]
}